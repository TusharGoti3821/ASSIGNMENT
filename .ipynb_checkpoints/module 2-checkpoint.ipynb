{
 "cells": [
  {
   "cell_type": "code",
   "execution_count": 8,
   "id": "e699cfa7",
   "metadata": {},
   "outputs": [
    {
     "name": "stdout",
     "output_type": "stream",
     "text": [
      "enter the number: 45\n",
      "the number is positive.\n"
     ]
    }
   ],
   "source": [
    "num = float(input(\"enter the number: \"))\n",
    "if (num>0):\n",
    "    print(\"the number is positive.\")\n",
    "elif num==0:\n",
    "    print(\"number is zero.\")\n",
    "else :\n",
    "    print(\"number is negative.\")"
   ]
  },
  {
   "cell_type": "code",
   "execution_count": 20,
   "id": "524261a2",
   "metadata": {},
   "outputs": [
    {
     "name": "stdout",
     "output_type": "stream",
     "text": [
      "enter the number :4\n",
      "the given 4 factorial is  24\n"
     ]
    }
   ],
   "source": [
    "num = int(input(\"enter the number :\"))\n",
    "fact =1\n",
    "for i in range (1,num+1):\n",
    "    fact = fact*i\n",
    "print(f\"the given {num} factorial is \",fact)"
   ]
  },
  {
   "cell_type": "code",
   "execution_count": 29,
   "id": "1c1fefed",
   "metadata": {},
   "outputs": [
    {
     "name": "stdout",
     "output_type": "stream",
     "text": [
      "before swaping the number using without third variable (4, 6)\n",
      "after swaping the number using without third variable (6, 4)\n",
      "befor swaping the number using third variable (4, 6)\n",
      "after swaping the number using third variable (6, 4)\n"
     ]
    }
   ],
   "source": [
    "a=4\n",
    "b=6\n",
    "print(\"before swaping the number using without third variable\",(a,b))\n",
    "a,b =b,a\n",
    "print(\"after swaping the number using without third variable\",(a,b))\n",
    "# using third variable\n",
    "a=4\n",
    "b=6\n",
    "print(\"befor swaping the number using third variable\",(a,b))\n",
    "temp = a\n",
    "a=b\n",
    "b= temp\n",
    "print(\"after swaping the number using third variable\",(a,b))"
   ]
  },
  {
   "cell_type": "code",
   "execution_count": 35,
   "id": "9e2bc549",
   "metadata": {},
   "outputs": [
    {
     "name": "stdout",
     "output_type": "stream",
     "text": [
      "enter the number :2\n",
      "the 2 is even.\n"
     ]
    }
   ],
   "source": [
    "num = int(input(\"enter the number :\"))\n",
    "if num%2 ==  0:\n",
    "    print(f\"the {num} is even.\")\n",
    "else:\n",
    "    print(f\"the {num} is odd\")"
   ]
  },
  {
   "cell_type": "code",
   "execution_count": 43,
   "id": "f7412877",
   "metadata": {},
   "outputs": [
    {
     "name": "stdout",
     "output_type": "stream",
     "text": [
      "enter the number a:5\n",
      "enter the number b:2\n",
      "enter the number c:5\n",
      "12\n"
     ]
    }
   ],
   "source": [
    "a =int(input(\"enter the number a:\"))\n",
    "b =int(input(\"enter the number b:\"))\n",
    "c =int(input(\"enter the number c:\"))\n",
    "if (a==b | b==c):\n",
    "    sum = 0\n",
    "    print(sum)\n",
    "else:\n",
    "    sum=a+b+c\n",
    "    print(sum)"
   ]
  },
  {
   "cell_type": "code",
   "execution_count": 52,
   "id": "c2ac2e06",
   "metadata": {},
   "outputs": [
    {
     "name": "stdout",
     "output_type": "stream",
     "text": [
      "enter the letter:A\n",
      "the given letter is vowel: A\n"
     ]
    }
   ],
   "source": [
    "vowel = (\"a\",\"e\",\"i\",\"o\",\"u\",\"A\",\"E\",\"I\",\"O\",\"U\" )\n",
    "letter = input(\"enter the letter:\")\n",
    "if (letter in vowel):\n",
    "    print(\"the given letter is vowel:\",letter)\n",
    "else:\n",
    "    print(\"the given letter is not vowel:\",letter)"
   ]
  },
  {
   "cell_type": "code",
   "execution_count": 62,
   "id": "8319e8ed",
   "metadata": {},
   "outputs": [
    {
     "name": "stdout",
     "output_type": "stream",
     "text": [
      "enter the number:7\n",
      "the given positive number sum is: 28\n"
     ]
    }
   ],
   "source": [
    "n=int(input(\"enter the number:\"))\n",
    "sum = 0\n",
    "for i in range(1,n+1):\n",
    "    sum = sum+i\n",
    "print(f\"the given positive number sum is:\",sum)"
   ]
  },
  {
   "cell_type": "code",
   "execution_count": 63,
   "id": "83d1da12",
   "metadata": {},
   "outputs": [
    {
     "name": "stdout",
     "output_type": "stream",
     "text": [
      "18\n"
     ]
    }
   ],
   "source": [
    "string = \"my name is tushar.\"\n",
    "print(len(string))"
   ]
  },
  {
   "cell_type": "code",
   "execution_count": 72,
   "id": "3bb1a5ce",
   "metadata": {},
   "outputs": [
    {
     "name": "stdout",
     "output_type": "stream",
     "text": [
      "2\n"
     ]
    }
   ],
   "source": [
    "str1 = \"my name is tushar\"\n",
    "print(str1.count(\"a\"))"
   ]
  },
  {
   "cell_type": "code",
   "execution_count": 73,
   "id": "2b029be3",
   "metadata": {},
   "outputs": [
    {
     "name": "stdout",
     "output_type": "stream",
     "text": [
      "1\n"
     ]
    }
   ],
   "source": [
    "string = \"my name is tushar.\"\n",
    "print(str1.count(\"tushar\"))"
   ]
  }
 ],
 "metadata": {
  "kernelspec": {
   "display_name": "Python 3 (ipykernel)",
   "language": "python",
   "name": "python3"
  },
  "language_info": {
   "codemirror_mode": {
    "name": "ipython",
    "version": 3
   },
   "file_extension": ".py",
   "mimetype": "text/x-python",
   "name": "python",
   "nbconvert_exporter": "python",
   "pygments_lexer": "ipython3",
   "version": "3.9.13"
  }
 },
 "nbformat": 4,
 "nbformat_minor": 5
}
