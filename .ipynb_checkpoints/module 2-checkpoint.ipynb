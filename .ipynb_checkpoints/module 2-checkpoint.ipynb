{
 "cells": [
  {
   "cell_type": "code",
   "execution_count": 7,
   "id": "e699cfa7",
   "metadata": {},
   "outputs": [
    {
     "name": "stdout",
     "output_type": "stream",
     "text": [
      "enter the number: 55\n",
      "the number is positive.\n"
     ]
    }
   ],
   "source": [
    "#Write a Python program to check if a number is positive, negative or \n",
    "zero.num = float(input(\"enter the number: \"))\n",
    "if (num>0):\n",
    "    print(\"the number is positive.\")\n",
    "elif num==0:\n",
    "    print(\"number is zero.\")\n",
    "else :\n",
    "    print(\"number is negative.\")"
   ]
  },
  {
   "cell_type": "code",
   "execution_count": 2,
   "id": "524261a2",
   "metadata": {},
   "outputs": [
    {
     "name": "stdout",
     "output_type": "stream",
     "text": [
      "enter the number :5\n",
      "the given 5 factorial is  120\n"
     ]
    }
   ],
   "source": [
    "num = int(input(\"enter the number :\"))\n",
    "fact =1\n",
    "for i in range (1,num+1):\n",
    "    fact = fact*i\n",
    "print(f\"the given {num} factorial is \",fact)"
   ]
  },
  {
   "cell_type": "code",
   "execution_count": 29,
   "id": "1c1fefed",
   "metadata": {},
   "outputs": [
    {
     "name": "stdout",
     "output_type": "stream",
     "text": [
      "before swaping the number using without third variable (4, 6)\n",
      "after swaping the number using without third variable (6, 4)\n",
      "befor swaping the number using third variable (4, 6)\n",
      "after swaping the number using third variable (6, 4)\n"
     ]
    }
   ],
   "source": [
    "a=4\n",
    "b=6\n",
    "print(\"before swaping the number using without third variable\",(a,b))\n",
    "a,b =b,a\n",
    "print(\"after swaping the number using without third variable\",(a,b))\n",
    "# using third variable\n",
    "a=4\n",
    "b=6\n",
    "print(\"befor swaping the number using third variable\",(a,b))\n",
    "temp = a\n",
    "a=b\n",
    "b= temp\n",
    "print(\"after swaping the number using third variable\",(a,b))"
   ]
  },
  {
   "cell_type": "code",
   "execution_count": 35,
   "id": "9e2bc549",
   "metadata": {},
   "outputs": [
    {
     "name": "stdout",
     "output_type": "stream",
     "text": [
      "enter the number :2\n",
      "the 2 is even.\n"
     ]
    }
   ],
   "source": [
    "num = int(input(\"enter the number :\"))\n",
    "if num%2 ==  0:\n",
    "    print(f\"the {num} is even.\")\n",
    "else:\n",
    "    print(f\"the {num} is odd\")"
   ]
  },
  {
   "cell_type": "code",
   "execution_count": 3,
   "id": "f7412877",
   "metadata": {},
   "outputs": [
    {
     "name": "stdout",
     "output_type": "stream",
     "text": [
      "enter the number a:50\n",
      "enter the number b:20\n",
      "enter the number c:50\n",
      "0\n"
     ]
    }
   ],
   "source": [
    "a =int(input(\"enter the number a:\"))\n",
    "b =int(input(\"enter the number b:\"))\n",
    "c =int(input(\"enter the number c:\"))\n",
    "if (a==b or b==c or c==a):\n",
    "    sum = 0\n",
    "    print(sum)\n",
    "else:\n",
    "    sum=a+b+c\n",
    "    print(sum)"
   ]
  },
  {
   "cell_type": "code",
   "execution_count": null,
   "id": "c2ac2e06",
   "metadata": {},
   "outputs": [],
   "source": [
    "vowel = (\"a\",\"e\",\"i\",\"o\",\"u\",\"A\",\"E\",\"I\",\"O\",\"U\" )\n",
    "letter = input(\"enter the letter:\")\n",
    "if (letter in vowel):\n",
    "    print(\"the given letter is vowel:\",letter)\n",
    "else:\n",
    "    print(\"the given letter is not vowel:\",letter)"
   ]
  },
  {
   "cell_type": "code",
   "execution_count": 62,
   "id": "8319e8ed",
   "metadata": {},
   "outputs": [
    {
     "name": "stdout",
     "output_type": "stream",
     "text": [
      "enter the number:7\n",
      "the given positive number sum is: 28\n"
     ]
    }
   ],
   "source": [
    "n=int(input(\"enter the number:\"))\n",
    "sum = 0\n",
    "for i in range(1,n+1):\n",
    "    sum = sum+i\n",
    "print(f\"the given positive number sum is:\",sum)"
   ]
  },
  {
   "cell_type": "code",
   "execution_count": 63,
   "id": "83d1da12",
   "metadata": {},
   "outputs": [
    {
     "name": "stdout",
     "output_type": "stream",
     "text": [
      "18\n"
     ]
    }
   ],
   "source": [
    "string = \"my name is tushar.\"\n",
    "print(len(string))"
   ]
  },
  {
   "cell_type": "code",
   "execution_count": 72,
   "id": "3bb1a5ce",
   "metadata": {},
   "outputs": [
    {
     "name": "stdout",
     "output_type": "stream",
     "text": [
      "2\n"
     ]
    }
   ],
   "source": [
    "str1 = \"my name is tushar\"\n",
    "print(str1.count(\"a\"))"
   ]
  },
  {
   "cell_type": "code",
   "execution_count": 9,
   "id": "2b029be3",
   "metadata": {},
   "outputs": [
    {
     "name": "stdout",
     "output_type": "stream",
     "text": [
      "1\n"
     ]
    }
   ],
   "source": [
    "str1 = \"my name is tushar.\"\n",
    "print(str1.count(\"tushar\"))"
   ]
  },
  {
   "cell_type": "code",
   "execution_count": null,
   "id": "cd454258",
   "metadata": {},
   "outputs": [],
   "source": [
    "x = int(input(\"enter the value1:\"))\n",
    "y = int(input(\"enter the value2:\"))\n",
    "if (x==y or x+y==5 or x-y==5):\n",
    "    print(\"true\")\n",
    "else:\n",
    "    print(\"false\")"
   ]
  },
  {
   "cell_type": "code",
   "execution_count": 17,
   "id": "ead5c115",
   "metadata": {},
   "outputs": [
    {
     "name": "stdout",
     "output_type": "stream",
     "text": [
      "Before Swap : my name is tushar   father's name is rameshbhai\n",
      "After Swap : fa name is tushar   myther's name is rameshbhai\n"
     ]
    }
   ],
   "source": [
    "a = \"my name is tushar\"\n",
    "b = \"father's name is rameshbhai\"\n",
    "print(\"Before Swap :\",a,\" \",b)\n",
    "a1 = b[:2] + a[2:]\n",
    "b1 = a[:2] + b[2:]\n",
    "print(\"After Swap :\",a1,\" \",b1)"
   ]
  },
  {
   "cell_type": "code",
   "execution_count": 31,
   "id": "dc713c5c",
   "metadata": {},
   "outputs": [
    {
     "name": "stdout",
     "output_type": "stream",
     "text": [
      "20\n",
      ".rraahsut si eman ym\n"
     ]
    }
   ],
   "source": [
    "str1 =\"my name is tushaarr.\"\n",
    "print(len(str1))\n",
    "if len(str1)%4 == 0 :\n",
    "    print(str1[::-1])\n",
    "else:\n",
    "    print(str1)"
   ]
  },
  {
   "cell_type": "code",
   "execution_count": 4,
   "id": "1e583b5b",
   "metadata": {},
   "outputs": [
    {
     "name": "stdout",
     "output_type": "stream",
     "text": [
      "enter the string:list\n",
      "list\n",
      "lits\n"
     ]
    }
   ],
   "source": [
    "str1 = input(\"enter the string:\")\n",
    "if len(str1)<2:\n",
    "    print(\"the string is empty\")\n",
    "else:\n",
    "    print(str1)\n",
    "a1 = str1[:2]+ str1[:-3:-1]\n",
    "print(a1)"
   ]
  },
  {
   "cell_type": "code",
   "execution_count": 7,
   "id": "3fcc2142",
   "metadata": {},
   "outputs": [
    {
     "name": "stdout",
     "output_type": "stream",
     "text": [
      "enter the string:\n",
      "\n"
     ]
    }
   ],
   "source": [
    "str1 = input(\"enter the string:\")\n",
    "if len(str1)<3:\n",
    "    print(str1)\n",
    "elif str1.endswith(\"ing\"):\n",
    "    print(str1 +\"ly\")\n",
    "else:\n",
    "    print(str1[:]+ \"ing\")\n",
    "    "
   ]
  },
  {
   "cell_type": "code",
   "execution_count": 57,
   "id": "7627de7e",
   "metadata": {},
   "outputs": [
    {
     "name": "stdout",
     "output_type": "stream",
     "text": [
      "13\n"
     ]
    }
   ],
   "source": [
    "l1 = [\"tushar\",\"jaymeen\", \"sahil\", \"isita\",\"fggdghgvjhbhm\", \"jensi\",\"tusharrrr\"]\n",
    "max_len = 0\n",
    "for i in l1 :\n",
    "    if len(i) > max_len:\n",
    "        max_len = len(i)\n",
    "print(max_len)"
   ]
  },
  {
   "cell_type": "markdown",
   "id": "f08499d1",
   "metadata": {},
   "source": [
    "How memory is managed in Python?\n",
    "\n",
    "Memory management in Python is done using a combination of techniques, including reference counting, garbage collection, and memory pooling"
   ]
  },
  {
   "cell_type": "markdown",
   "id": "387432ec",
   "metadata": {},
   "source": [
    " What is the purpose continue statement in python?\n",
    "\n",
    "The continue statement in Python is used to skip over a part of a loop iteration based on a condition, and move on to the next iteration"
   ]
  },
  {
   "cell_type": "markdown",
   "id": "eba4ee21",
   "metadata": {},
   "source": [
    "What are negative indexes and why are they used?\n",
    "\n",
    "In Python, negative indexing is a way to access elements of a sequence (like a list or a string) from the end, instead of the beginning.\n"
   ]
  },
  {
   "cell_type": "code",
   "execution_count": 3,
   "id": "bbb28269",
   "metadata": {},
   "outputs": [
    {
     "name": "stdout",
     "output_type": "stream",
     "text": [
      "enter the string with use of not & poor word :The weather is not poor today, but it was poor yesterday\n",
      "15\n",
      "15\n",
      "19\n",
      "The weather is good today, but it was poor yesterday\n"
     ]
    }
   ],
   "source": [
    "str1 = input(\"enter the string with use of not & poor word :\")\n",
    "index_not=str1.find(\"not\")\n",
    "index_poor=str1.find(\"poor\")\n",
    "if index_not == index_poor-4:\n",
    "    print(str1.replace(\"not poor\",\"good\"))\n",
    "else:\n",
    "    print(str1)"
   ]
  },
  {
   "cell_type": "code",
   "execution_count": 34,
   "id": "df9d19d5",
   "metadata": {},
   "outputs": [
    {
     "name": "stdout",
     "output_type": "stream",
     "text": [
      "enter the number :5\n",
      "0\n",
      "1\n",
      "1\n",
      "2\n",
      "3\n"
     ]
    }
   ],
   "source": [
    "n = int(input(\"enter the number :\"))\n",
    "fib1 = 0\n",
    "fib2 = 1\n",
    "if n == 1:\n",
    "    print(fib1)\n",
    "else:\n",
    "    print(fib1)\n",
    "    print(fib2)\n",
    "    for i in range(2, n):\n",
    "        fib3 = fib1 + fib2\n",
    "        print(fib3)\n",
    "        fib1 = fib2\n",
    "        fib2 = fib3       "
   ]
  },
  {
   "cell_type": "code",
   "execution_count": 45,
   "id": "7df7e0f9",
   "metadata": {},
   "outputs": [
    {
     "name": "stdout",
     "output_type": "stream",
     "text": [
      "11\n",
      "my name is tushar and i am student\n"
     ]
    }
   ],
   "source": [
    "str1 = \"my name is and i am student\"\n",
    "str2= \"tushar\"\n",
    "print(str1.index(\"and\"))\n",
    "str1 = str1[:11] + str2 +str1[10:]\n",
    "print(str1)"
   ]
  }
 ],
 "metadata": {
  "kernelspec": {
   "display_name": "Python 3 (ipykernel)",
   "language": "python",
   "name": "python3"
  },
  "language_info": {
   "codemirror_mode": {
    "name": "ipython",
    "version": 3
   },
   "file_extension": ".py",
   "mimetype": "text/x-python",
   "name": "python",
   "nbconvert_exporter": "python",
   "pygments_lexer": "ipython3",
   "version": "3.9.13"
  }
 },
 "nbformat": 4,
 "nbformat_minor": 5
}
