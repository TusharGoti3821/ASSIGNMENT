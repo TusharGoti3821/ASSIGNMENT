{
 "cells": [
  {
   "cell_type": "code",
   "execution_count": null,
   "id": "b7e9fcb8",
   "metadata": {},
   "outputs": [],
   "source": [
    "# What is File function in python? What is keywords to create and write file.\n",
    "file function is used to access the file and manipulation to filr\n",
    "i)read()\n",
    "ii)write()"
   ]
  },
  {
   "cell_type": "code",
   "execution_count": 6,
   "id": "3b268a65",
   "metadata": {},
   "outputs": [
    {
     "name": "stdout",
     "output_type": "stream",
     "text": [
      "name :tushar\n",
      " mobile number:9825383943\n",
      " email:tgoti923@gmail.com\n",
      " age:21\n"
     ]
    }
   ],
   "source": [
    "# Write a Python program to read an entire text file.\n",
    "fp=open(\"demo.txt\",\"r\")\n",
    "print(fp.read())\n",
    "fp.close()"
   ]
  },
  {
   "cell_type": "code",
   "execution_count": 11,
   "id": "1c36bbd0",
   "metadata": {},
   "outputs": [
    {
     "name": "stdout",
     "output_type": "stream",
     "text": [
      "name :tushar\n",
      " mobile number:9825383943\n",
      " email:tgoti923@gmail.com\n",
      " age:21mo.:991339543mo.:991339543\n",
      "mo.:991339543\n",
      "mo.:991339543\n",
      "\n"
     ]
    }
   ],
   "source": [
    "# Write a Python program to append text to a file and display the text. \n",
    "fp=open(\"demo.txt\",\"a\")\n",
    "fp.write(\"mo.:991339543\\n\")\n",
    "# print(fp.write)\n",
    "fp.close()\n",
    "fp=open(\"demo.txt\",\"r\")\n",
    "print(fp.read())\n",
    "fp.close()"
   ]
  },
  {
   "cell_type": "code",
   "execution_count": 10,
   "id": "5ee065be",
   "metadata": {},
   "outputs": [
    {
     "name": "stdout",
     "output_type": "stream",
     "text": [
      "enter the number:3\n",
      "name :tushar\n",
      "\n",
      " mobile number:9825383943\n",
      "\n",
      " email:tgoti923@gmail.com\n",
      "\n"
     ]
    }
   ],
   "source": [
    "# Write a Python program to read first n lines of a file.\n",
    "\n",
    "n=int(input(\"enter the number:\"))\n",
    "fp=open(\"demo.txt\",\"r\")\n",
    "for i in range(0,n):\n",
    "    \n",
    "    print(fp.readline())\n",
    "fp.close()"
   ]
  },
  {
   "cell_type": "code",
   "execution_count": 20,
   "id": "8c6cb073",
   "metadata": {},
   "outputs": [
    {
     "name": "stdout",
     "output_type": "stream",
     "text": [
      "enter the number:3\n",
      "[' age:21mo.:991339543mo.:991339543\\n', 'mo.:991339543\\n', 'mo.:991339543\\n']\n"
     ]
    }
   ],
   "source": [
    "# Write a Python program to read last n lines of a file. \n",
    "n=int(input(\"enter the number:\"))\n",
    "fp=open(\"demo.txt\",\"r\")\n",
    "lines=fp.readlines()\n",
    "print(lines[-n:])\n",
    "\n",
    "fp.close()"
   ]
  },
  {
   "cell_type": "code",
   "execution_count": 22,
   "id": "27bc320f",
   "metadata": {},
   "outputs": [
    {
     "name": "stdout",
     "output_type": "stream",
     "text": [
      "['name :tushar\\n', ' mobile number:9825383943\\n', ' email:tgoti923@gmail.com\\n', ' age:21mo.:991339543mo.:991339543\\n', 'mo.:991339543\\n', 'mo.:991339543\\n']\n"
     ]
    }
   ],
   "source": [
    "# Write a Python program to read a file line by line and store it into a list\n",
    "dp=open(\"demo.txt\",\"r\")\n",
    "print(dp.readlines())"
   ]
  },
  {
   "cell_type": "code",
   "execution_count": 26,
   "id": "bc40bf16",
   "metadata": {},
   "outputs": [
    {
     "name": "stdout",
     "output_type": "stream",
     "text": [
      "['name :tushar\\n', ' mobile number:9825383943\\n', ' email:tgoti923@gmail.com\\n', ' age:21mo.:991339543mo.:991339543\\n', 'mo.:991339543\\n', 'mo.:991339543\\n']\n"
     ]
    }
   ],
   "source": [
    "# Write a Python program to read a file line by line store it into a variable. \n",
    "dp=open(\"demo.txt\",\"r\")\n",
    "l1=dp.readlines()\n",
    "print(l1)"
   ]
  },
  {
   "cell_type": "code",
   "execution_count": 33,
   "id": "4555516b",
   "metadata": {},
   "outputs": [
    {
     "name": "stdout",
     "output_type": "stream",
     "text": [
      "['m', 'y', ' ', 'n', 'a', 'm', 'e', ' ', 'i', 's', ' ', 't', 'u', 's', 'h', 'a', 'r', ' ', 'a', 'n', 'd', ' ', 'i', ' ', 'a', 'm', ' ', 'a', ' ', 's', 't', 'u', 'd', 'e', 'n', 't']\n"
     ]
    }
   ],
   "source": [
    "\n",
    "st1=\"my name is tushar and i am a student\"\n",
    "st1=sorted(st1,key=len)\n",
    "print(st1)\n",
    "# print(len(st1))"
   ]
  },
  {
   "cell_type": "code",
   "execution_count": 34,
   "id": "58e05250",
   "metadata": {},
   "outputs": [
    {
     "name": "stdout",
     "output_type": "stream",
     "text": [
      "5\n"
     ]
    }
   ],
   "source": [
    "# Write a Python program to count the number of lines in a text file.\n",
    "fp=open(\"demo.txt\",\"r\")\n",
    "print(len(fp.readlines()))\n"
   ]
  },
  {
   "cell_type": "code",
   "execution_count": 35,
   "id": "b609717e",
   "metadata": {},
   "outputs": [],
   "source": [
    "# Write a Python program to count the frequency of words in a file."
   ]
  },
  {
   "cell_type": "code",
   "execution_count": 45,
   "id": "90242b01",
   "metadata": {},
   "outputs": [
    {
     "name": "stdout",
     "output_type": "stream",
     "text": [
      "name :tushar\n",
      "mobile number:9825383943\n",
      "email:tgoti923@gmail.com\n",
      "age:21\n",
      "mo.:991339543tusharravikano\n",
      "tushar\n",
      "ravi\n",
      "kano\n",
      "tushar\n",
      "ravi\n",
      "kano\n",
      "tushar\n",
      "ravi\n",
      "kano\n"
     ]
    }
   ],
   "source": [
    "# Write a Python program to write a list to a file. \n",
    "l1=[\"tushar\",\"ravi\",\"kano\"]\n",
    "fp=open(\"demo.txt\",\"a\")\n",
    "for i in l1:\n",
    "    fp.write(f\"\\n{i}\")\n",
    "fp.close()\n",
    "fp=open(\"demo.txt\",\"r\")\n",
    "print(fp.read())"
   ]
  },
  {
   "cell_type": "code",
   "execution_count": 1,
   "id": "020c1561",
   "metadata": {},
   "outputs": [
    {
     "name": "stdout",
     "output_type": "stream",
     "text": [
      "name :tushar\n",
      "mobile number:9825383943\n",
      "email:tgoti923@gmail.com\n",
      "age:21\n",
      "mo.:991339543tusharravikano\n",
      "tushar\n",
      "ravi\n",
      "kano\n",
      "tushar\n",
      "ravi\n",
      "kano\n",
      "tushar\n",
      "ravi\n",
      "kano\n"
     ]
    }
   ],
   "source": [
    "# Write a Python program to copy the contents of a file to another file. \n",
    "fp=open(\"demo.txt\",\"r\")\n",
    "fp1=open(\"demo2.txt\",\"w\")\n",
    "for line in fp:\n",
    "    fp1.write(line)\n",
    "fp1.close()\n",
    "fp1=open(\"demo2.txt\",\"r\")\n",
    "print(fp1.read())"
   ]
  },
  {
   "cell_type": "code",
   "execution_count": 13,
   "id": "99fc878d",
   "metadata": {},
   "outputs": [],
   "source": [
    "# Write python program that user to enter only odd numbers, else will \n",
    "# raise an exception.\n",
    "    "
   ]
  },
  {
   "cell_type": "code",
   "execution_count": 16,
   "id": "f1d2a8b8",
   "metadata": {},
   "outputs": [
    {
     "name": "stdout",
     "output_type": "stream",
     "text": [
      "entrt the length4\n",
      "entrt the width5\n",
      "area= 20\n"
     ]
    }
   ],
   "source": [
    "# Write a Python class named Rectangle constructed by a length and \n",
    "# width and a method which will compute the area of a rectangle \n",
    "class rectengle():\n",
    "    def __init__(self):\n",
    "        self.length=\"\"\n",
    "        self.width=\"\"\n",
    "    def getdata(self):\n",
    "        self.length=int(input(\"entrt the length:\"))\n",
    "        self.width=int(input(\"entrt the width:\"))\n",
    "\n",
    "area = rectengle()\n",
    "area.getdata()\n",
    "print(\"area=\",area.length*area.width)"
   ]
  },
  {
   "cell_type": "code",
   "execution_count": 32,
   "id": "66d459e3",
   "metadata": {},
   "outputs": [
    {
     "name": "stdout",
     "output_type": "stream",
     "text": [
      "entrt the radius:1\n",
      "area of circle= 3.14\n",
      "entrt the radius:2\n",
      "area of circle= 12.56\n"
     ]
    }
   ],
   "source": [
    "# Write a Python class named Circle constructed by a radius and two \n",
    "# methods which will compute the area and the perimeter of a circle\n",
    "# Write a Python class named Rectangle constructed by a length and \n",
    "# width and a method which will compute the area of a rectangle \n",
    "class circle():\n",
    "    def __init__(self):\n",
    "        self.radius=\"\"\n",
    "    def getdata_area(self):\n",
    "        self.radius=int(input(\"entrt the radius:\"))\n",
    "        print(\"area of circle=\",3.14*(self.radius**2))\n",
    "    def getdata_permiter(self):\n",
    "        self.radius=int(input(\"entrt the radius:\"))\n",
    "        print(\"area of circle=\",3.14*self.radius*2)\n",
    "    \n",
    "\n",
    "s1 = circle()\n",
    "s1.getdata_area()\n",
    "s1.getdata_permiter()\n"
   ]
  },
  {
   "cell_type": "code",
   "execution_count": 26,
   "id": "adc14e42",
   "metadata": {},
   "outputs": [
    {
     "name": "stdout",
     "output_type": "stream",
     "text": [
      "14\n"
     ]
    }
   ],
   "source": [
    "# Write a Python program to count the number of lines in a text file.\n",
    "fp=open(\"demo.txt\",\"r\")\n",
    "print(len(fp.readlines()))"
   ]
  },
  {
   "cell_type": "markdown",
   "id": "c081059f",
   "metadata": {},
   "source": [
    "Explain Exception handling? What is an Error in Python? \n",
    "ans:exception handling allows you to seprate error handling code from normal code.when a certain statement is not in \n",
    "accordance with the prescribed usage."
   ]
  },
  {
   "cell_type": "markdown",
   "id": "54b094f3",
   "metadata": {},
   "source": [
    "How many except statements can a try-except block have? Name Some \n",
    "built-in exception classes: \n",
    "ans:there has to be at least one except statment.\n",
    "    checked exception:classnotfoundException,filenotfoundException\n",
    "    uncheacked exception:arithmeticException,nullpointException,arraystoreExecption"
   ]
  },
  {
   "cell_type": "markdown",
   "id": "71e2a41b",
   "metadata": {},
   "source": [
    "When will the else part of try-except-else be executed? \n",
    "ans:when no Exception occures."
   ]
  },
  {
   "cell_type": "markdown",
   "id": "92a57d4a",
   "metadata": {},
   "source": [
    "Can one block of except statements handle multiple exception? \n",
    "ans:try-except blocks can be used to catch and respond to one or multiple exception."
   ]
  },
  {
   "cell_type": "markdown",
   "id": "9299e3f7",
   "metadata": {},
   "source": [
    "When is the finally block executed? \n",
    "ans:when the try block exits."
   ]
  },
  {
   "cell_type": "code",
   "execution_count": null,
   "id": "1163668f",
   "metadata": {},
   "outputs": [],
   "source": [
    "What happens when „1‟== 1 is executed? \n",
    "ans:it simply answer to false and does not raise any exception."
   ]
  },
  {
   "cell_type": "code",
   "execution_count": null,
   "id": "74ec915e",
   "metadata": {},
   "outputs": [],
   "source": [
    "# How Do You Handle Exceptions With Try/Except/Finally In Python? Explain with coding snippets.\n",
    "try:\n",
    "    a=10\n",
    "    b=0\n",
    "    c=a/b\n",
    "    print(c)\n",
    "except:\n",
    "    print(\"ZeroDivisionError\")\n"
   ]
  },
  {
   "cell_type": "code",
   "execution_count": null,
   "id": "3721a3ab",
   "metadata": {},
   "outputs": [],
   "source": [
    "# How to Define a Class in Python? What Is Self? Give An Example Of A Python Class \n",
    "ans :SELF represents the instance of class. This handy keyword allows you to access variables,\n",
    "    attributes, and methods of a defined class in Python. The self parameter doesn't have to\n",
    "    be named “self,” as you can call it by any other name\n",
    "    class student:\n",
    "    \n",
    "    def __init__(self):\n",
    "        self.name=\"\"\n",
    "        self.age=\"\"\n",
    "        self.marks1=\"\"\n",
    "        self.marks2=\"\"\n",
    "    def getdata(self):\n",
    "        self.name=input(\"enter name:\")\n",
    "        self.age=input(\"enter age:\")\n",
    "        self.marks1=int(input(\"enter marks1:\"))\n",
    "        self.marks2=int(input(\"enter marks2:\"))\n",
    "s1=student()\n",
    "s1.getdata()\n",
    "s2=student()\n",
    "s2.getdata()\n",
    "s3=student()\n",
    "s3.getdata()"
   ]
  },
  {
   "cell_type": "code",
   "execution_count": null,
   "id": "c5389b90",
   "metadata": {},
   "outputs": [],
   "source": [
    "# Explain Inheritance in Python with an example? What is init? Or  Is A CoWhatnstructor In Python? \n",
    "ans:Inheritance relationship defines the classes that inherit from other classes as derived, subclass, or sub-type classes.\n",
    "   - The __init__ method is the Python equivalent of the C++ constructor in an object-oriented approach.\n",
    "   - Constructors in Python is a special method of a class for creating and initializing an object instance at that class.\n",
    "    "
   ]
  },
  {
   "cell_type": "code",
   "execution_count": null,
   "id": "a5fecb82",
   "metadata": {},
   "outputs": [],
   "source": [
    "# What is Instantiation in terms of OOP terminology\n",
    "ans:In object-oriented programming (OOP), an object is essentially an instance of a class. In OOP languages,\n",
    "    a class is like a blueprint where variables and methods are defined,\n",
    "    and each time a new instance of the class (instantiation) is created, \n",
    "    an object gets created hence the term object-oriented."
   ]
  },
  {
   "cell_type": "code",
   "execution_count": null,
   "id": "a7136745",
   "metadata": {},
   "outputs": [],
   "source": [
    "# What is used to check whether an object o is an instance of class A? \n",
    "ans:The isinstance() function returns True if the specified object is of the specified type, otherwise False .\n",
    "    If the type parameter is a tuple, this function will return True if the object is one of the types in the tuple."
   ]
  },
  {
   "cell_type": "code",
   "execution_count": null,
   "id": "6f39f6a8",
   "metadata": {},
   "outputs": [],
   "source": [
    "# What are oops concepts? Is multiple inheritance supported in java \n",
    "ans:OOP (object-oriented programming) concepts in Python include Class, Object, Method, Inheritance,\n",
    "    Polymorphism, Data Abstraction, and Encapsulation.\n",
    "   -  Java programming language does not permit you to extend more than one class is to avoid the issues\n",
    "    of multiple inheritance of state, which is the ability to inherit fields from multiple classes."
   ]
  }
 ],
 "metadata": {
  "kernelspec": {
   "display_name": "Python 3 (ipykernel)",
   "language": "python",
   "name": "python3"
  },
  "language_info": {
   "codemirror_mode": {
    "name": "ipython",
    "version": 3
   },
   "file_extension": ".py",
   "mimetype": "text/x-python",
   "name": "python",
   "nbconvert_exporter": "python",
   "pygments_lexer": "ipython3",
   "version": "3.9.13"
  }
 },
 "nbformat": 4,
 "nbformat_minor": 5
}
