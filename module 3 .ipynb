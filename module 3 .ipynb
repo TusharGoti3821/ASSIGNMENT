{
 "cells": [
  {
   "cell_type": "markdown",
   "id": "a0a7e8b9",
   "metadata": {},
   "source": [
    "1)What is List? How will you reverse a list? \n",
    "Lists are used to store multiple items in a single variable.\n",
    "we simply use reversefunction to reverse a list."
   ]
  },
  {
   "cell_type": "code",
   "execution_count": 1,
   "id": "f9744971",
   "metadata": {},
   "outputs": [
    {
     "name": "stdout",
     "output_type": "stream",
     "text": [
      "15\n",
      "[2, 33, 222, 14]\n"
     ]
    }
   ],
   "source": [
    "# 2) How will you remove last object from a list? \n",
    "# Suppose list1 is [2, 33, 222, 14, and 25], what is list1 [-1]?\n",
    "list1 = [2,33,222,14,15]\n",
    "print(list1[-1])\n",
    "list1.pop()\n",
    "print(list1)"
   ]
  },
  {
   "cell_type": "code",
   "execution_count": 2,
   "id": "9afc99bb",
   "metadata": {},
   "outputs": [
    {
     "ename": "SyntaxError",
     "evalue": "invalid syntax (482001940.py, line 2)",
     "output_type": "error",
     "traceback": [
      "\u001b[1;36m  Input \u001b[1;32mIn [2]\u001b[1;36m\u001b[0m\n\u001b[1;33m    Append() function is used for add a single element in list wher extend() function is used for add a itrebal in the last of list.\u001b[0m\n\u001b[1;37m             ^\u001b[0m\n\u001b[1;31mSyntaxError\u001b[0m\u001b[1;31m:\u001b[0m invalid syntax\n"
     ]
    }
   ],
   "source": [
    "# 3) Differentiate between append () and extend () methods?\n",
    "Append() function is used for add a single element in list wher extend() function is used for add a itrebal in the last of list."
   ]
  },
  {
   "cell_type": "code",
   "execution_count": 4,
   "id": "7dec9d8b",
   "metadata": {},
   "outputs": [
    {
     "name": "stdout",
     "output_type": "stream",
     "text": [
      "222\n",
      "2\n",
      "2\n",
      "35\n",
      "257\n",
      "271\n",
      "286\n"
     ]
    }
   ],
   "source": [
    "# 4)Write a Python function to get the largest number, smallest num and sum \n",
    "# of all from a list. \n",
    "list1 = [2,33,222,14,15]\n",
    "print(max(list1))\n",
    "print(min(list1))\n",
    "sum=0\n",
    "for i in list1:\n",
    "    sum = sum+i\n",
    "    print(sum)"
   ]
  },
  {
   "cell_type": "code",
   "execution_count": 5,
   "id": "5b860927",
   "metadata": {},
   "outputs": [
    {
     "name": "stdout",
     "output_type": "stream",
     "text": [
      "list is not same\n"
     ]
    }
   ],
   "source": [
    "# 5) How will you compare two lists?\n",
    "l1 = [2,33,222,14,15]\n",
    "l2 = [2,34,54,65,67]\n",
    "l1.sort()\n",
    "l2.sort()\n",
    "if l1==l2:\n",
    "    print(\"the both list is same \")\n",
    "else:\n",
    "    print(\"list is not same\")"
   ]
  },
  {
   "cell_type": "code",
   "execution_count": 6,
   "id": "988e550d",
   "metadata": {},
   "outputs": [
    {
     "name": "stdout",
     "output_type": "stream",
     "text": [
      "list is not empty\n"
     ]
    }
   ],
   "source": [
    "# 8)Write a Python program to check a list is empty or not. \n",
    "l1 = [2,33,222,222,14,15]\n",
    "if len(l1) == 0:\n",
    "    print(\"list is empty\")\n",
    "else:\n",
    "    print(\"list is not empty\")"
   ]
  },
  {
   "cell_type": "code",
   "execution_count": 9,
   "id": "bd5dc089",
   "metadata": {},
   "outputs": [
    {
     "name": "stdout",
     "output_type": "stream",
     "text": [
      "3\n"
     ]
    }
   ],
   "source": [
    "# 6)Write a Python program to count the number of strings where the string \n",
    "# length is 2 or more and the first and last character are same from a given \n",
    "# list of strings. \n",
    "l1 = ['aaa','abd','ace','eye','pip','iot']\n",
    "count=0\n",
    "for i in l1:\n",
    "    if len(i)>2 and i[0] == i[-1]:\n",
    "        count+=1\n",
    "print(count)"
   ]
  },
  {
   "cell_type": "code",
   "execution_count": 10,
   "id": "1a9ef332",
   "metadata": {},
   "outputs": [
    {
     "name": "stdout",
     "output_type": "stream",
     "text": [
      "[33, 2, 14, 15, 222]\n"
     ]
    }
   ],
   "source": [
    "# 7) Write a Python program to remove duplicates from a list. \n",
    "l1 = [2,33,222,222,14,15]\n",
    "print(list(set(l1)))"
   ]
  },
  {
   "cell_type": "code",
   "execution_count": 12,
   "id": "ba09b0fe",
   "metadata": {},
   "outputs": [
    {
     "name": "stdout",
     "output_type": "stream",
     "text": [
      "True\n"
     ]
    }
   ],
   "source": [
    "#  Write a Python function that takes two lists and returns true if they have \n",
    "# at least one common member.  \n",
    "l1 = [2,33,222,222,14,15]\n",
    "l2 = ['aaa','abd','ace',2]\n",
    "result = False\n",
    "for x in l1:\n",
    "    for y in l2:\n",
    "        if x==y:\n",
    "            result = True\n",
    "print(result)\n"
   ]
  },
  {
   "cell_type": "code",
   "execution_count": 13,
   "id": "9182a592",
   "metadata": {},
   "outputs": [
    {
     "name": "stdout",
     "output_type": "stream",
     "text": [
      "enter the string:62\n",
      "62\n"
     ]
    }
   ],
   "source": [
    "#\n",
    "str1 = input (\"enter the string:\")\n",
    "if len(str1)<2:\n",
    "    print(\"enter the string more than length of string\")\n",
    "else:\n",
    "    str1[0]==str1[-1]\n",
    "    print(str1)\n",
    "\n",
    "\n"
   ]
  },
  {
   "cell_type": "code",
   "execution_count": 14,
   "id": "20bb4683",
   "metadata": {},
   "outputs": [
    {
     "name": "stdout",
     "output_type": "stream",
     "text": [
      "{'dipraj', 'dhiren', 'ravi', 'tushar'}\n"
     ]
    }
   ],
   "source": [
    "\n",
    "l1=[\"tushar\",\"ravi\",\"dipraj\",\"dhiren\",\"tushar\"]\n",
    "print(set(l1))"
   ]
  },
  {
   "cell_type": "code",
   "execution_count": 15,
   "id": "90f51e5a",
   "metadata": {},
   "outputs": [
    {
     "name": "stdout",
     "output_type": "stream",
     "text": [
      "enter the list item:\n",
      "the list is empty\n"
     ]
    }
   ],
   "source": [
    "\n",
    "l1 = list(input(\"enter the list item:\"))\n",
    "# print(len(l1))\n",
    "if len(l1)==0:\n",
    "    print(\"the list is empty\")"
   ]
  },
  {
   "cell_type": "code",
   "execution_count": 16,
   "id": "eca93a74",
   "metadata": {},
   "outputs": [
    {
     "name": "stdout",
     "output_type": "stream",
     "text": [
      "enter the list1:\n",
      "enter the list2:\n",
      "[] []\n",
      "None\n"
     ]
    }
   ],
   "source": [
    "\n",
    "def common_num():\n",
    "    l1 = list(input(\"enter the list1:\"))\n",
    "    l2 = list(input(\"enter the list2:\"))\n",
    "    for i in l1:\n",
    "        for j in l2:\n",
    "            if i==j:\n",
    "                return True\n",
    "    print(l1,l2)\n",
    "print(common_num())"
   ]
  },
  {
   "cell_type": "code",
   "execution_count": 17,
   "id": "afb6842b",
   "metadata": {},
   "outputs": [
    {
     "name": "stdout",
     "output_type": "stream",
     "text": [
      "[1, 4, 9, 16, 25]\n",
      "[900, 841, 784, 729]\n"
     ]
    }
   ],
   "source": [
    "#  Write a Python program to generate and print a list of first and last 5 \n",
    "# elements where the values are square of numbers between 1 and 30. \n",
    "def printvalues():\n",
    "    l=list()\n",
    "    for i in range(1,31):\n",
    "        l.append(i**2)\n",
    "    print(l[:5])\n",
    "    print(l[:-5:-1])\n",
    "printvalues()"
   ]
  },
  {
   "cell_type": "code",
   "execution_count": 18,
   "id": "109c2c8b",
   "metadata": {},
   "outputs": [
    {
     "name": "stdout",
     "output_type": "stream",
     "text": [
      "[1, 2, 3, 4, 56, 7, 8, 9, 0, 65]\n"
     ]
    }
   ],
   "source": [
    "# rite a Python function that takes a list and returns a new list with unique \n",
    "# elements of the first list.\n",
    "def uniqe_list(l):\n",
    "    x=[]\n",
    "    for i in l:\n",
    "        if i not in x:\n",
    "            x.append(i)\n",
    "    return x\n",
    "print(uniqe_list([1,2,3,4,56,7,8,9,0,9,8,7,65,4,4,3,2,1]))\n",
    "# uniqe_list(l)"
   ]
  },
  {
   "cell_type": "code",
   "execution_count": 19,
   "id": "6849f142",
   "metadata": {},
   "outputs": [
    {
     "name": "stdout",
     "output_type": "stream",
     "text": [
      "tushar\n"
     ]
    }
   ],
   "source": [
    "# Write a Python program to convert a list of characters into a string. \n",
    "def convert(s):\n",
    "    new=\"\"\n",
    "    for i in s:\n",
    "        new+=i\n",
    "    return new\n",
    "print(convert([\"t\",'u','s','h','a','r']))"
   ]
  },
  {
   "cell_type": "code",
   "execution_count": 20,
   "id": "c2e243f8",
   "metadata": {},
   "outputs": [
    {
     "data": {
      "text/plain": [
       "8"
      ]
     },
     "execution_count": 20,
     "metadata": {},
     "output_type": "execute_result"
    }
   ],
   "source": [
    "#Write a Python program to select an item randomly from a list. \n",
    "import random\n",
    "list1 =[1,2,3,4,5,6,87,8,6,5,4]\n",
    "random.choice(list1)"
   ]
  },
  {
   "cell_type": "code",
   "execution_count": 21,
   "id": "cac2d95a",
   "metadata": {},
   "outputs": [
    {
     "data": {
      "text/plain": [
       "3"
      ]
     },
     "execution_count": 21,
     "metadata": {},
     "output_type": "execute_result"
    }
   ],
   "source": [
    "# Write a Python program to find the second smallest number in a list. \n",
    "list1 =[3,5,6,8,6,6,4,32,2,4,5,6,78,]\n",
    "list1.sort()\n",
    "list1[1]"
   ]
  },
  {
   "cell_type": "code",
   "execution_count": 22,
   "id": "8f41c681",
   "metadata": {},
   "outputs": [
    {
     "name": "stdout",
     "output_type": "stream",
     "text": [
      "[2, 4, 5, 6, 78, 9, 7, 65, 3, 32, 24, 56]\n"
     ]
    }
   ],
   "source": [
    "#Write a Python program to get unique values from a list \n",
    "l=[2,4,5,6,78,9,7,65,4,3,2,4,6,5,4,32,24,56,6,5,4,3]\n",
    "x=[]\n",
    "for i in l:\n",
    "    if i not in x:\n",
    "        x.append(i)\n",
    "print(x)"
   ]
  },
  {
   "cell_type": "code",
   "execution_count": 23,
   "id": "cec045d4",
   "metadata": {},
   "outputs": [
    {
     "ename": "TypeError",
     "evalue": "object of type 'int' has no len()",
     "output_type": "error",
     "traceback": [
      "\u001b[1;31m---------------------------------------------------------------------------\u001b[0m",
      "\u001b[1;31mTypeError\u001b[0m                                 Traceback (most recent call last)",
      "Input \u001b[1;32mIn [23]\u001b[0m, in \u001b[0;36m<cell line: 3>\u001b[1;34m()\u001b[0m\n\u001b[0;32m      2\u001b[0m list1\u001b[38;5;241m=\u001b[39m[\u001b[38;5;241m2\u001b[39m,\u001b[38;5;241m3\u001b[39m,\u001b[38;5;241m3\u001b[39m,\u001b[38;5;241m4\u001b[39m,\u001b[38;5;241m6\u001b[39m,\u001b[38;5;241m6\u001b[39m,[\u001b[38;5;241m7\u001b[39m,\u001b[38;5;241m8\u001b[39m,\u001b[38;5;241m665\u001b[39m,\u001b[38;5;241m4\u001b[39m,],\u001b[38;5;241m4\u001b[39m,\u001b[38;5;241m3\u001b[39m]\n\u001b[0;32m      3\u001b[0m \u001b[38;5;28;01mfor\u001b[39;00m i \u001b[38;5;129;01min\u001b[39;00m (list1):\n\u001b[0;32m      4\u001b[0m \u001b[38;5;66;03m#     print(i)\u001b[39;00m\n\u001b[1;32m----> 5\u001b[0m     \u001b[38;5;28;01mif\u001b[39;00m \u001b[38;5;28;43mlen\u001b[39;49m\u001b[43m(\u001b[49m\u001b[43mi\u001b[49m\u001b[43m)\u001b[49m\u001b[38;5;241m>\u001b[39m\u001b[38;5;241m2\u001b[39m:\n\u001b[0;32m      6\u001b[0m         \u001b[38;5;28mprint\u001b[39m(\u001b[38;5;124m\"\u001b[39m\u001b[38;5;124mlist contain sublist\u001b[39m\u001b[38;5;124m\"\u001b[39m)\n\u001b[0;32m      7\u001b[0m     \u001b[38;5;28;01melse\u001b[39;00m:\n",
      "\u001b[1;31mTypeError\u001b[0m: object of type 'int' has no len()"
     ]
    }
   ],
   "source": [
    "#Write a Python program to check whether a list contains a sub list\n",
    "list1=[2,3,3,4,6,6,[7,8,665,4,],4,3]\n",
    "for i in (list1):\n",
    "#     print(i)\n",
    "    if len(i)>2:\n",
    "        print(\"list contain sublist\")\n",
    "    else:\n",
    "        print(\"list is not contain sublist\")"
   ]
  },
  {
   "cell_type": "code",
   "execution_count": 24,
   "id": "a6bc3e40",
   "metadata": {},
   "outputs": [
    {
     "name": "stdout",
     "output_type": "stream",
     "text": [
      "[1, 2, 3, 4, 5, 6] [7, 8, 90]\n"
     ]
    }
   ],
   "source": [
    "#Write a Python program to split a list into different variables.\n",
    "list1 = [1,2,3,4,5,6,7,8,90]\n",
    "# print(len(list1))\n",
    "var1=list1[:6]\n",
    "var2=list1[6:]\n",
    "print(var1,var2)"
   ]
  },
  {
   "cell_type": "code",
   "execution_count": 25,
   "id": "dc994f13",
   "metadata": {},
   "outputs": [
    {
     "name": "stdout",
     "output_type": "stream",
     "text": [
      "(1, 2, 2.33, 'tushar', [1, 2, 33], (1, 2, 3), {'tushar': 23}, {5.5, 6, 55})\n"
     ]
    }
   ],
   "source": [
    "# Write a Python program to create a tuple with different data types. \n",
    "tup1=(1,2,2.33,\"tushar\",[1,2,33],(1,2,3),{\"tushar\":23},{55,5.5,6,6})\n",
    "print(tup1)"
   ]
  },
  {
   "cell_type": "code",
   "execution_count": 26,
   "id": "3cb0f163",
   "metadata": {},
   "outputs": [
    {
     "data": {
      "text/plain": [
       "'(22, 23, 2, 4, 25, 26, 25, 233, 3333)'"
      ]
     },
     "execution_count": 26,
     "metadata": {},
     "output_type": "execute_result"
    }
   ],
   "source": [
    "#Write a Python program to convert a tuple to a string. \n",
    "tup1=(22,23,2,4,25,26,25,233,3333)\n",
    "str(tup1)\n"
   ]
  },
  {
   "cell_type": "code",
   "execution_count": 27,
   "id": "bf8482af",
   "metadata": {},
   "outputs": [
    {
     "data": {
      "text/plain": [
       "'(22, 23, 2, 4, 25, 26, 25, 233, 3333)'"
      ]
     },
     "execution_count": 27,
     "metadata": {},
     "output_type": "execute_result"
    }
   ],
   "source": [
    "#  Write a Python program to convert a tuple to a string.\n",
    "tup1=(22,23,2,4,25,26,25,233,3333)\n",
    "str(tup1)"
   ]
  },
  {
   "cell_type": "code",
   "execution_count": 28,
   "id": "c56bb4c1",
   "metadata": {},
   "outputs": [
    {
     "name": "stdout",
     "output_type": "stream",
     "text": [
      "enter the number:\n"
     ]
    },
    {
     "ename": "ValueError",
     "evalue": "invalid literal for int() with base 10: ''",
     "output_type": "error",
     "traceback": [
      "\u001b[1;31m---------------------------------------------------------------------------\u001b[0m",
      "\u001b[1;31mValueError\u001b[0m                                Traceback (most recent call last)",
      "Input \u001b[1;32mIn [28]\u001b[0m, in \u001b[0;36m<cell line: 4>\u001b[1;34m()\u001b[0m\n\u001b[0;32m      1\u001b[0m \u001b[38;5;66;03m#  Write a Python program to check whether an element exists within a \u001b[39;00m\n\u001b[0;32m      2\u001b[0m \u001b[38;5;66;03m# tuple. \u001b[39;00m\n\u001b[0;32m      3\u001b[0m tup1\u001b[38;5;241m=\u001b[39m(\u001b[38;5;241m22\u001b[39m,\u001b[38;5;241m23\u001b[39m,\u001b[38;5;241m2\u001b[39m,\u001b[38;5;241m4\u001b[39m,\u001b[38;5;241m25\u001b[39m,\u001b[38;5;241m26\u001b[39m,\u001b[38;5;241m25\u001b[39m,\u001b[38;5;241m233\u001b[39m,\u001b[38;5;241m3333\u001b[39m,\u001b[38;5;241m22\u001b[39m,\u001b[38;5;241m23\u001b[39m,\u001b[38;5;241m24\u001b[39m)\n\u001b[1;32m----> 4\u001b[0m num\u001b[38;5;241m=\u001b[39m\u001b[38;5;28;43mint\u001b[39;49m\u001b[43m(\u001b[49m\u001b[38;5;28;43minput\u001b[39;49m\u001b[43m(\u001b[49m\u001b[38;5;124;43m\"\u001b[39;49m\u001b[38;5;124;43menter the number:\u001b[39;49m\u001b[38;5;124;43m\"\u001b[39;49m\u001b[43m)\u001b[49m\u001b[43m)\u001b[49m\n\u001b[0;32m      5\u001b[0m \u001b[38;5;28;01mfor\u001b[39;00m i \u001b[38;5;129;01min\u001b[39;00m tup1:\n\u001b[0;32m      6\u001b[0m     \u001b[38;5;28;01mif\u001b[39;00m num\u001b[38;5;241m==\u001b[39mi:\n",
      "\u001b[1;31mValueError\u001b[0m: invalid literal for int() with base 10: ''"
     ]
    }
   ],
   "source": [
    "#  Write a Python program to check whether an element exists within a \n",
    "# tuple. \n",
    "tup1=(22,23,2,4,25,26,25,233,3333,22,23,24)\n",
    "num=int(input(\"enter the number:\"))\n",
    "for i in tup1:\n",
    "    if num==i:\n",
    "        print(\"enter number is aleredy exist in tuple\")\n",
    "#     else:\n",
    "#         print(\"number is not exist\")\n",
    "        "
   ]
  },
  {
   "cell_type": "code",
   "execution_count": 29,
   "id": "742b9d23",
   "metadata": {},
   "outputs": [
    {
     "name": "stdout",
     "output_type": "stream",
     "text": [
      "12\n"
     ]
    }
   ],
   "source": [
    "\n",
    "tup1=(22,23,2,4,25,26,25,233,3333,22,23,24)\n",
    "print(len(tup1))"
   ]
  },
  {
   "cell_type": "code",
   "execution_count": 30,
   "id": "57c4d817",
   "metadata": {},
   "outputs": [
    {
     "data": {
      "text/plain": [
       "(1, 2, 3, 4, 5, 6, 7, 8, 90)"
      ]
     },
     "execution_count": 30,
     "metadata": {},
     "output_type": "execute_result"
    }
   ],
   "source": [
    "\n",
    "#  Write a Python program to find the length of a tuple. \n",
    "list1 = [1,2,3,4,5,6,7,8,90]\n",
    "tuple(list1)"
   ]
  },
  {
   "cell_type": "code",
   "execution_count": 31,
   "id": "4c2c38a8",
   "metadata": {},
   "outputs": [
    {
     "data": {
      "text/plain": [
       "(3333, 233, 25, 26, 25, 4, 2, 23, 22)"
      ]
     },
     "execution_count": 31,
     "metadata": {},
     "output_type": "execute_result"
    }
   ],
   "source": [
    "# Write a Python program to reverse a tuple.\n",
    "tup1=(22,23,2,4,25,26,25,233,3333)\n",
    "tup1[::-1]"
   ]
  },
  {
   "cell_type": "code",
   "execution_count": 32,
   "id": "8b4ba133",
   "metadata": {},
   "outputs": [
    {
     "name": "stdout",
     "output_type": "stream",
     "text": [
      "(22, 23, 2, 4, 25, 26, 25, 233, 3444)\n"
     ]
    }
   ],
   "source": [
    "# rite a Python program to replace last value of tuples in a list. \n",
    "tup1=(22,23,2,4,25,26,25,233,3333)\n",
    "list1=list(tup1)\n",
    "list1[-1]=3444\n",
    "print(tuple(list1))\n",
    "# print(list1)"
   ]
  },
  {
   "cell_type": "code",
   "execution_count": 33,
   "id": "4cc7bde7",
   "metadata": {},
   "outputs": [
    {
     "name": "stdout",
     "output_type": "stream",
     "text": [
      "[22, 25, 22, 25]\n"
     ]
    }
   ],
   "source": [
    "# Write a Python program to find the repeated items of a tuple. \n",
    "tup1=(22,23,2,4,25,26,22,233,3333.35,25)\n",
    "repeted_items=[]\n",
    "for i in tup1:\n",
    "    if tup1.count(i)>1:\n",
    "        repeted_items.append(i)\n",
    "print(repeted_items)"
   ]
  },
  {
   "cell_type": "code",
   "execution_count": 34,
   "id": "26e0ea5f",
   "metadata": {},
   "outputs": [
    {
     "name": "stdout",
     "output_type": "stream",
     "text": [
      "[('ram', '15', '8'), ('laxman', 'sita'), ('krishna', 'akbar', '45'), ('', '')]\n"
     ]
    }
   ],
   "source": [
    "\n",
    "\n",
    "\n",
    "# rite a Python program to remove an empty tuple(s) from a list of tuples. \n",
    "def Remove(tuples):\n",
    "    for i in tuples:\n",
    "        if(len(i) == 0):\n",
    "            tuples.remove(i)\n",
    "    return tuples\n",
    "\n",
    "\n",
    "# Driver Code\n",
    "tuples = [(), ('ram', '15', '8'), (), ('laxman', 'sita'),('krishna', 'akbar', '45'), ('', ''), ()]\n",
    "print(Remove(tuples))\n"
   ]
  },
  {
   "cell_type": "code",
   "execution_count": 35,
   "id": "d0f2f886",
   "metadata": {},
   "outputs": [
    {
     "name": "stdout",
     "output_type": "stream",
     "text": [
      "[(1, 4), (2, 5), (3, 6)]\n"
     ]
    }
   ],
   "source": [
    "#  Write a Python program to unzip a list of tuples into individual lists. \n",
    "l1=[(1,2,3),(4,5,6)]\n",
    "print(list(zip(*l1)))"
   ]
  },
  {
   "cell_type": "code",
   "execution_count": 13,
   "id": "cf6f1504",
   "metadata": {},
   "outputs": [
    {
     "ename": "TypeError",
     "evalue": "cannot convert dictionary update sequence element #0 to a sequence",
     "output_type": "error",
     "traceback": [
      "\u001b[1;31m---------------------------------------------------------------------------\u001b[0m",
      "\u001b[1;31mTypeError\u001b[0m                                 Traceback (most recent call last)",
      "Input \u001b[1;32mIn [13]\u001b[0m, in \u001b[0;36m<cell line: 2>\u001b[1;34m()\u001b[0m\n\u001b[0;32m      1\u001b[0m l1\u001b[38;5;241m=\u001b[39m[(\u001b[38;5;241m1\u001b[39m,\u001b[38;5;241m2\u001b[39m,\u001b[38;5;241m3\u001b[39m,\u001b[38;5;241m4\u001b[39m),(\u001b[38;5;241m3\u001b[39m,\u001b[38;5;241m4\u001b[39m,\u001b[38;5;241m5\u001b[39m,\u001b[38;5;241m6\u001b[39m)]\n\u001b[1;32m----> 2\u001b[0m \u001b[38;5;28mprint\u001b[39m(\u001b[38;5;28;43mdict\u001b[39;49m\u001b[43m(\u001b[49m\u001b[43ml1\u001b[49m\u001b[43m[\u001b[49m\u001b[38;5;241;43m0\u001b[39;49m\u001b[43m]\u001b[49m\u001b[43m)\u001b[49m)\n",
      "\u001b[1;31mTypeError\u001b[0m: cannot convert dictionary update sequence element #0 to a sequence"
     ]
    }
   ],
   "source": [
    "l1=[(1,2,3,4),(3,4,5,6)]\n",
    "print(dict(l1[0]))"
   ]
  },
  {
   "cell_type": "code",
   "execution_count": 5,
   "id": "d2b490aa",
   "metadata": {},
   "outputs": [
    {
     "name": "stdout",
     "output_type": "stream",
     "text": [
      "{(1, 2, 3): 'red', (2, 3, 4): 'yellow'}\n"
     ]
    }
   ],
   "source": [
    "data={(1,2,3):\"red\",(2,3,4):\"yellow\"}\n",
    "print(data)"
   ]
  },
  {
   "cell_type": "code",
   "execution_count": 8,
   "id": "a455046b",
   "metadata": {},
   "outputs": [
    {
     "name": "stdout",
     "output_type": "stream",
     "text": [
      "{1: 2, 2: 3, 4: 5}\n"
     ]
    }
   ],
   "source": [
    "#  Write a Python script to concatenate following dictionaries to create a \n",
    "# new one. \n",
    "dict1 = {1:2,2:3}\n",
    "dict2 ={2:3,4:5}\n",
    "dict3={}\n",
    "for i  in (dict1,dict2):\n",
    "    dict3.update(i)\n",
    "print(dict3)\n",
    "    "
   ]
  },
  {
   "cell_type": "code",
   "execution_count": 36,
   "id": "814c8bbb",
   "metadata": {},
   "outputs": [
    {
     "name": "stdout",
     "output_type": "stream",
     "text": [
      "enter the key name:6\n",
      "present\n"
     ]
    }
   ],
   "source": [
    "# Write a Python script to check if a given key already exists in a \n",
    "# dictionary.\n",
    "key=input(\"enter the key name:\")\n",
    "dic={'1':2,'2':3,'3':4,'3':5,'4':6,'6':7}\n",
    "if key in dic.keys():\n",
    "    print(\"present\")\n",
    "else:\n",
    "    print(\"not present\")\n"
   ]
  },
  {
   "cell_type": "code",
   "execution_count": 37,
   "id": "a613714d",
   "metadata": {},
   "outputs": [
    {
     "name": "stdout",
     "output_type": "stream",
     "text": [
      "{1: 1, 2: 4, 3: 9, 4: 16, 5: 25, 6: 36, 7: 49, 8: 64, 9: 81, 10: 100, 11: 121, 12: 144, 13: 169, 14: 196, 15: 225}\n"
     ]
    }
   ],
   "source": [
    "#  Write a Python script to print a dictionary where the keys are numbers \n",
    "# between 1 and 15. \n",
    "a=dict()\n",
    "for i in range(1,16):\n",
    "    a[i]=i**2\n",
    "print(a)\n",
    "    "
   ]
  },
  {
   "cell_type": "code",
   "execution_count": 35,
   "id": "b7281fd8",
   "metadata": {},
   "outputs": [
    {
     "name": "stdout",
     "output_type": "stream",
     "text": [
      "enter the key 6\n",
      "present\n"
     ]
    }
   ],
   "source": [
    "#  How Do You Check The Presence Of A Key In A Dictionary? \n",
    "dic={\"1\":2,'3':4,'4':6,'6':7}\n",
    "x = input(\"enter the key \")\n",
    "# dic.has_key(x)\n",
    "if x in dic:\n",
    "    print(\"present\")\n",
    "else:\n",
    "    print(\"not prsent\")"
   ]
  },
  {
   "cell_type": "code",
   "execution_count": 39,
   "id": "39073ed3",
   "metadata": {},
   "outputs": [
    {
     "name": "stdout",
     "output_type": "stream",
     "text": [
      "1 2\n",
      "3 4\n",
      "4 6\n",
      "6 7\n"
     ]
    }
   ],
   "source": [
    "# How Do You Traverse Through A Dictionary Object In Python? \n",
    "dic={\"1\":2,'3':4,'4':6,'6':7}\n",
    "for keys,values in dic.items():\n",
    "    print(keys,values)"
   ]
  },
  {
   "cell_type": "code",
   "execution_count": 58,
   "id": "5fab5724",
   "metadata": {},
   "outputs": [
    {
     "name": "stdout",
     "output_type": "stream",
     "text": [
      "{'a': 400, 'c': 300, 'b': 400, 'd': 400}\n"
     ]
    }
   ],
   "source": [
    "#  Write a Python program to combine two dictionary adding values for \n",
    "# common keys. \n",
    "# d1 = {'a': 100, 'b': 200, 'c':300} o d2 = {'a': 300, 'b': 200,’d’:400} \n",
    "# Sample output: Counter ({'a': 400, 'b': 400,’d’: 400, 'c': 300}). \n",
    "d1 = {'a': 100, 'b': 200, 'c':300}\n",
    "d2 = {'a': 300, 'b': 200,'d':400} \n",
    "# print(d1.get(\"a\"))\n",
    "c = {i: d1.get(i, 0) + d2.get(i, 0)\n",
    "     for i in set(d1).union(d2)}\n",
    "print(c)"
   ]
  },
  {
   "cell_type": "code",
   "execution_count": 61,
   "id": "dd30921c",
   "metadata": {},
   "outputs": [
    {
     "name": "stdout",
     "output_type": "stream",
     "text": [
      "dict_keys(['a', 'b', 'd'])\n"
     ]
    }
   ],
   "source": [
    "# Write a Python program to print all unique values in a dictionary. \n",
    "d2 = {'a': 300, 'b': 200,'d':400,'a': 300, 'b': 200,'d':400}  \n",
    "\n",
    "print(d2.keys())"
   ]
  },
  {
   "cell_type": "code",
   "execution_count": 64,
   "id": "a6dd60ca",
   "metadata": {},
   "outputs": [
    {
     "name": "stdout",
     "output_type": "stream",
     "text": [
      "ac\n",
      "ad\n",
      "bc\n",
      "bd\n"
     ]
    }
   ],
   "source": [
    "# Write a Python program to create and display all combinations of letters, \n",
    "# selecting each letter from a different key in a dictionary. \n",
    "d1={'1': ['a','b'], '2': ['c','d']} \n",
    "for x in d1[\"1\"]:\n",
    "    for y in d1[\"2\"]:\n",
    "        print(x+y)"
   ]
  },
  {
   "cell_type": "code",
   "execution_count": 1,
   "id": "11606359",
   "metadata": {},
   "outputs": [
    {
     "name": "stdout",
     "output_type": "stream",
     "text": [
      "[400, 500, 800]\n"
     ]
    }
   ],
   "source": [
    "#  Write a Python program to find the highest 3 values in a dictionary \n",
    "d1={'a': 300, 'b': 200,'dc':400,'e': 500, 'f': 800,'g':100}\n",
    "d2=list(d1.values())\n",
    "# print(d2)\n",
    "d2.sort()\n",
    "print(d2[-3:])"
   ]
  },
  {
   "cell_type": "code",
   "execution_count": 39,
   "id": "17e9a2b9",
   "metadata": {},
   "outputs": [
    {
     "name": "stdout",
     "output_type": "stream",
     "text": [
      "enter factorial number:5\n",
      "120\n"
     ]
    }
   ],
   "source": [
    "#  Write a Python function to calculate the factorial of a number (a nonnegative integer) \n",
    "def factorial(n):\n",
    "    fact=1\n",
    "    for i in range(2,n+1):\n",
    "        fact=fact*i\n",
    "    return fact\n",
    "n=int(input(\"enter factorial number:\"))\n",
    "print(factorial(n))"
   ]
  },
  {
   "cell_type": "code",
   "execution_count": 45,
   "id": "b85ca205",
   "metadata": {},
   "outputs": [
    {
     "name": "stdout",
     "output_type": "stream",
     "text": [
      "enter the number78\n",
      "the number is not given in range\n"
     ]
    }
   ],
   "source": [
    "# Write a Python function to check whether a number is in a given range\n",
    "num=int(input(\"enter the number\"))\n",
    "\n",
    "if num in range(0,45):\n",
    "    print(\"the number is in range\")\n",
    "else:\n",
    "    print(\"the number is not given in range\")"
   ]
  },
  {
   "cell_type": "code",
   "execution_count": null,
   "id": "0330f646",
   "metadata": {},
   "outputs": [],
   "source": [
    "# Write a Python function to check whether a number is perfect or not. \n",
    "\n",
    "n= int(input(\"enter the number\"))\n",
    "sum = 0\n",
    "for i in range(1,n):\n",
    "    if n % i==0:\n",
    "        sum= sum +i\n",
    "    print(sum)\n",
    "    "
   ]
  },
  {
   "cell_type": "code",
   "execution_count": 1,
   "id": "786f8f8e",
   "metadata": {},
   "outputs": [
    {
     "name": "stdout",
     "output_type": "stream",
     "text": [
      "enter the string:yufyjhm\n",
      "not\n",
      "None\n"
     ]
    }
   ],
   "source": [
    "# Write a Python function that checks whether a passed string is \n",
    "# palindrome or not\n",
    "def palindrome(x):\n",
    "    if x ==x[::-1]:\n",
    "        print(\"it is palindrome\")\n",
    "    else:\n",
    "        print(\"not\")\n",
    "x=input(\"enter the string:\")\n",
    "print(palindrome(x))\n"
   ]
  },
  {
   "cell_type": "code",
   "execution_count": 12,
   "id": "6ebb6111",
   "metadata": {},
   "outputs": [
    {
     "name": "stdout",
     "output_type": "stream",
     "text": [
      "enter the numberrsjfkxn\n"
     ]
    },
    {
     "ename": "ValueError",
     "evalue": "invalid literal for int() with base 10: 'rsjfkxn'",
     "output_type": "error",
     "traceback": [
      "\u001b[1;31m---------------------------------------------------------------------------\u001b[0m",
      "\u001b[1;31mValueError\u001b[0m                                Traceback (most recent call last)",
      "Input \u001b[1;32mIn [12]\u001b[0m, in \u001b[0;36m<cell line: 1>\u001b[1;34m()\u001b[0m\n\u001b[1;32m----> 1\u001b[0m n \u001b[38;5;241m=\u001b[39m \u001b[38;5;28;43mint\u001b[39;49m\u001b[43m(\u001b[49m\u001b[38;5;28;43minput\u001b[39;49m\u001b[43m(\u001b[49m\u001b[38;5;124;43m\"\u001b[39;49m\u001b[38;5;124;43menter the number\u001b[39;49m\u001b[38;5;124;43m\"\u001b[39;49m\u001b[43m)\u001b[49m\u001b[43m)\u001b[49m\n\u001b[0;32m      2\u001b[0m \u001b[38;5;28msum\u001b[39m\u001b[38;5;241m=\u001b[39m\u001b[38;5;241m0\u001b[39m\n\u001b[0;32m      3\u001b[0m \u001b[38;5;28;01mfor\u001b[39;00m i \u001b[38;5;129;01min\u001b[39;00m \u001b[38;5;28mrange\u001b[39m(\u001b[38;5;241m1\u001b[39m,n\u001b[38;5;241m+\u001b[39m\u001b[38;5;241m1\u001b[39m):\n",
      "\u001b[1;31mValueError\u001b[0m: invalid literal for int() with base 10: 'rsjfkxn'"
     ]
    }
   ],
   "source": [
    "n = int(input(\"enter the number\"))\n",
    "sum=0\n",
    "for i in range(1,n+1):\n",
    "    if n%i==0:\n",
    "        sum+=i\n",
    "print(sum)\n",
    "    "
   ]
  },
  {
   "cell_type": "code",
   "execution_count": 15,
   "id": "5a3daa96",
   "metadata": {},
   "outputs": [
    {
     "name": "stdout",
     "output_type": "stream",
     "text": [
      "enter the radious of thr cylinder6520\n",
      "enter the height of the cylinder512\n",
      "68343119872.0 287929459.2\n"
     ]
    }
   ],
   "source": [
    "r = float(input(\"enter the radious of thr cylinder\"))\n",
    "h = float(input(\"enter the height of the cylinder\"))\n",
    "volume_of_cylinder= (3.14)*r*r*h\n",
    "surface_of_area= 3.14*2*r*r +2*3.14*r*h\n",
    "print(volume_of_cylinder,surface_of_area)"
   ]
  },
  {
   "cell_type": "code",
   "execution_count": 16,
   "id": "c39f58fc",
   "metadata": {},
   "outputs": [
    {
     "name": "stdout",
     "output_type": "stream",
     "text": [
      "enter the value of basse52\n",
      "enter the value of height52.\n",
      "2704.0\n"
     ]
    }
   ],
   "source": [
    "# area of parallelogram\n",
    "b=float(input(\"enter the value of basse\"))\n",
    "h=float(input(\"enter the value of height\"))\n",
    "area=b*h\n",
    "print(area)"
   ]
  },
  {
   "cell_type": "code",
   "execution_count": 17,
   "id": "c6090407",
   "metadata": {},
   "outputs": [
    {
     "name": "stdout",
     "output_type": "stream",
     "text": [
      "enter the number562\n",
      "enter the number.4\n",
      "enter the number4\n",
      "1124.8\n"
     ]
    }
   ],
   "source": [
    "# area of trapezoid\n",
    "b1=float(input(\"enter the number\"))\n",
    "b2=float(input(\"enter the number\"))\n",
    "h=float(input(\"enter the number\"))\n",
    "a=(b1+b2)*h/2\n",
    "print(a)"
   ]
  },
  {
   "cell_type": "code",
   "execution_count": 21,
   "id": "6eebf47c",
   "metadata": {},
   "outputs": [
    {
     "name": "stdout",
     "output_type": "stream",
     "text": [
      "enter the number180\n",
      "3.141592653589793\n"
     ]
    }
   ],
   "source": [
    "# coversion of degree to radian\n",
    "from math import pi\n",
    "degree=float(input(\"enter the number\"))\n",
    "radian = degree*pi / 180\n",
    "print(radian)"
   ]
  }
 ],
 "metadata": {
  "kernelspec": {
   "display_name": "Python 3 (ipykernel)",
   "language": "python",
   "name": "python3"
  },
  "language_info": {
   "codemirror_mode": {
    "name": "ipython",
    "version": 3
   },
   "file_extension": ".py",
   "mimetype": "text/x-python",
   "name": "python",
   "nbconvert_exporter": "python",
   "pygments_lexer": "ipython3",
   "version": "3.9.13"
  }
 },
 "nbformat": 4,
 "nbformat_minor": 5
}
