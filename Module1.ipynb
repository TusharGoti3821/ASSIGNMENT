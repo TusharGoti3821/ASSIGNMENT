{
 "cells": [
  {
   "cell_type": "markdown",
   "id": "c243cabd",
   "metadata": {},
   "source": [
    "<h3>Module 1 </h3>"
   ]
  },
  {
   "cell_type": "markdown",
   "id": "0b0c9ac4",
   "metadata": {},
   "source": [
    "Question 1. What is Software?"
   ]
  },
  {
   "cell_type": "markdown",
   "id": "f27dd395",
   "metadata": {},
   "source": [
    "Software is a set of instructions, data, or programs used to operate a computer and execute specific tasks. \n",
    "In simpler terms, software tells a computer how to function."
   ]
  },
  {
   "cell_type": "markdown",
   "id": "9c6a222b",
   "metadata": {},
   "source": [
    " Question 2. What are the types of Applications?"
   ]
  },
  {
   "cell_type": "markdown",
   "id": "ca78a9df",
   "metadata": {},
   "source": [
    "1. Native Applications --- It take so much time yo devlope the app\n",
    "2. Hybrid Applications --- It take less time\n",
    "3. Web Applications\n",
    "4. Progressive Applications"
   ]
  },
  {
   "cell_type": "markdown",
   "id": "be102817",
   "metadata": {},
   "source": [
    "Question 3. What is programing?\n",
    "\n",
    "programming as it is the process that models or structure the set of instructions that instruct the machine how to perform \n",
    "a task and what to perform."
   ]
  },
  {
   "cell_type": "markdown",
   "id": "e16533a6",
   "metadata": {},
   "source": [
    "Question 4. What is Python?\n",
    "\n",
    "Python is an interpreted, object-oriented, high-level programming language with dynamic semantics. \n",
    "Its high-level built in data structures, combined with dynamic typing and dynamic binding, make it very attractive for \n",
    "Rapid Application Development, as well as for use as a scripting or glue language to connect existing components together."
   ]
  }
 ],
 "metadata": {
  "kernelspec": {
   "display_name": "Python 3 (ipykernel)",
   "language": "python",
   "name": "python3"
  },
  "language_info": {
   "codemirror_mode": {
    "name": "ipython",
    "version": 3
   },
   "file_extension": ".py",
   "mimetype": "text/x-python",
   "name": "python",
   "nbconvert_exporter": "python",
   "pygments_lexer": "ipython3",
   "version": "3.9.13"
  }
 },
 "nbformat": 4,
 "nbformat_minor": 5
}
